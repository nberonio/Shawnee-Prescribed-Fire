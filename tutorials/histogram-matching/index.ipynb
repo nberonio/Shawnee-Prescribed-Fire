{
  "nbformat": 4,
  "nbformat_minor": 0,
  "metadata": {
    "colab": {
      "name": "Histogram Matching",
      "provenance": []
    },
    "kernelspec": {
      "name": "python3",
      "display_name": "Python 3"
    }
  },
  "cells": [
    {
      "cell_type": "code",
      "metadata": {
        "id": "8kdsGkYJXXKc"
      },
      "source": [
        "#@title Copyright 2021 The Earth Engine Community Authors { display-mode: \"form\" }\n",
        "#\n",
        "# Licensed under the Apache License, Version 2.0 (the \"License\");\n",
        "# you may not use this file except in compliance with the License.\n",
        "# You may obtain a copy of the License at\n",
        "#\n",
        "# https://www.apache.org/licenses/LICENSE-2.0\n",
        "#\n",
        "# Unless required by applicable law or agreed to in writing, software\n",
        "# distributed under the License is distributed on an \"AS IS\" BASIS,\n",
        "# WITHOUT WARRANTIES OR CONDITIONS OF ANY KIND, either express or implied.\n",
        "# See the License for the specific language governing permissions and\n",
        "# limitations under the License."
      ],
      "execution_count": null,
      "outputs": []
    },
    {
      "cell_type": "markdown",
      "metadata": {
        "id": "l18M9_r5XmAQ"
      },
      "source": [
        "# Histogram Matching\n",
        "Author: jdbcode\n",
        "\n",
        "_**Modified from the [Medium blog post](https://gorelick.medium.com/histogram-matching-c7153c85066d) by Noel Gorelick**_\n",
        "\n",
        "Histogram matching is a quick and easy way to \"calibrate\" one image to match another. In mathematical terms, it's the process of transforming one image so that the cumulative distribution function (CDF) of values in each band matches the CDF of bands in another image.\n",
        "\n",
        "To illustrate what this looks like and how it works, I'm going to histogram-match a high-resolution (0.8m/pixel) SkySat image to the Landsat 8 calibrated surface reflectance images taken around the same time. Below is what it looks like with the SkySat image overlaid on top of the Landsat data, before the matching. Each image's histogram is shown as well:\n",
        "\n",
        "![](https://github.com/google/earthengine-community/blob/master/tutorials/histogram-matching/before-match.png?raw=1)\n",
        "\n",
        "SkySat image swath overlaid on Landsat 8 image\n",
        "\n",
        "![](https://github.com/google/earthengine-community/blob/master/tutorials/histogram-matching/before-cdf.png?raw=1)\n",
        "\n",
        "Cumulative histogram for SkySat (left) and Landsat 8 surface reflectance (right).\n",
        "\n",
        "To make the histograms match, we can interpolate the values from the source image (SkySat) into the range of the target image (Landsat), using a piecewise-linear function that puts the correct ratio of pixels into each bin.\n",
        "\n",
        "Let's get started: setup the Earth Engine API."
      ]
    },
    {
      "cell_type": "markdown",
      "metadata": {
        "id": "U7i55vr_aKCB"
      },
      "source": [
        "### Setup Earth Engine"
      ]
    },
    {
      "cell_type": "code",
      "metadata": {
        "id": "XeFsiSp2aDL6"
      },
      "source": [
        "import ee\n",
        "import geemap\n",
        "\n",
        "ee.Authenticate()\n",
        "ee.Initialize(project='my-project')"
      ],
      "execution_count": null,
      "outputs": []
    },
    {
      "cell_type": "markdown",
      "metadata": {
        "id": "UthSa-NiRrAZ"
      },
      "source": [
        "## Functions"
      ]
    },
    {
      "cell_type": "markdown",
      "metadata": {
        "id": "FL1eFMBbLN3u"
      },
      "source": [
        "The following is code to generate the piecewise-linear function using the cumulative count histograms of each image."
      ]
    },
    {
      "cell_type": "code",
      "metadata": {
        "id": "HK_4KZ3ZdZ5M"
      },
      "source": [
        "def lookup(source_hist, target_hist):\n",
        "    \"\"\"Creates a lookup table to make a source histogram match a target histogram.\n",
        "\n",
        "    Args:\n",
        "        source_hist: The histogram to modify. Expects the Nx2 array format produced by ee.Reducer.autoHistogram.\n",
        "        target_hist: The histogram to match to. Expects the Nx2 array format produced by ee.Reducer.autoHistogram.\n",
        "\n",
        "    Returns:\n",
        "        A dictionary with 'x' and 'y' properties that respectively represent the x and y\n",
        "        array inputs to the ee.Image.interpolate function.\n",
        "    \"\"\"\n",
        "\n",
        "    # Split the histograms by column and normalize the counts.\n",
        "    source_values = source_hist.slice(1, 0, 1).project([0])\n",
        "    source_counts = source_hist.slice(1, 1, 2).project([0])\n",
        "    source_counts = source_counts.divide(source_counts.get([-1]))\n",
        "\n",
        "    target_values = target_hist.slice(1, 0, 1).project([0])\n",
        "    target_counts = target_hist.slice(1, 1, 2).project([0])\n",
        "    target_counts = target_counts.divide(target_counts.get([-1]))\n",
        "\n",
        "    # Find first position in target where targetCount >= srcCount[i], for each i.\n",
        "    def make_lookup(n):\n",
        "        return target_values.get(target_counts.gte(n).argmax())\n",
        "\n",
        "    lookup = source_counts.toList().map(make_lookup)\n",
        "\n",
        "    return {'x': source_values.toList(), 'y': lookup}"
      ],
      "execution_count": null,
      "outputs": []
    },
    {
      "cell_type": "markdown",
      "metadata": {
        "id": "h1fr4iiPeO0E"
      },
      "source": [
        "This code starts by splitting the (2D Array) histograms into the pixel values (column 0) and pixel counts (column 1), and normalizes the counts by dividing by the total count (the last value).\n",
        "\n",
        "Next, for each source bin, it finds the index of the first bin in the target histogram where `target_count ≥ src_count[i]`. To determine that, we compare each value from `source_count` to the entire array of `target_counts`. This comparison generates an array of 0s where the comparison is false and 1s where the comparison is true. The index of the first non-zero value can be found using the `Array.argmax()` function, and using that index, we can determine the `target_value` that each `src_value` should be adjusted to. The output of this function is formatted as a dictionary that's suitable for passing directly into the `Image.interpolate()` function.\n",
        "\n",
        "Next, here's the code for generating the histograms and adjusting the images."
      ]
    },
    {
      "cell_type": "code",
      "metadata": {
        "id": "l-ofElnberw1"
      },
      "source": [
        "def histogram_match(source_img, target_img, geometry):\n",
        "    \"\"\"Performs histogram matching for 3-band RGB images by forcing the histogram CDF of source_img to match target_img.\n",
        "\n",
        "    Args:\n",
        "        source_img: A 3-band ee.Image to be color matched. Must have bands named 'R', 'G', and 'B'.\n",
        "        target_img: A 3-band ee.Image for color reference. Must have bands named 'R', 'G', and 'B'.\n",
        "        geometry: An ee.Geometry that defines the region to generate RGB histograms for.\n",
        "          It should intersect both source_img and target_img inputs.\n",
        "\n",
        "    Returns:\n",
        "        A copy of src_img color-matched to target_img.\n",
        "    \"\"\"\n",
        "\n",
        "    args = {\n",
        "        'reducer': ee.Reducer.autoHistogram(maxBuckets=256, cumulative=True),\n",
        "        'geometry': geometry,\n",
        "        'scale': 1, # Need to specify a scale, but it doesn't matter what it is because bestEffort is true.\n",
        "        'maxPixels': 65536 * 4 - 1,\n",
        "        'bestEffort': True\n",
        "    }\n",
        "\n",
        "    # Only use pixels in target that have a value in source (inside the footprint and unmasked).\n",
        "    source = source_img.reduceRegion(**args)\n",
        "    target = target_img.updateMask(source_img.mask()).reduceRegion(**args)\n",
        "\n",
        "    return ee.Image(ee.Image.cat(\n",
        "        source_img.select(['R']).interpolate(**lookup(source.getArray('R'), target.getArray('R'))),\n",
        "        source_img.select(['G']).interpolate(**lookup(source.getArray('G'), target.getArray('G'))),\n",
        "        source_img.select(['B']).interpolate(**lookup(source.getArray('B'), target.getArray('B')))\n",
        "    ).copyProperties(source_img, ['system:time_start']))"
      ],
      "execution_count": null,
      "outputs": []
    },
    {
      "cell_type": "markdown",
      "metadata": {
        "id": "VOf_UnIcZKBJ"
      },
      "source": [
        "This code runs a `reduceRegion()` on each image to generate a cumulative histogram, making sure that only pixels that are in both images are included when computing the histograms (just in case there might be a cloud or something else just outside of the high-res image, that might distort the results). It's not important to generate that histogram with a really high fidelity, so the `maxPixels` argument is set to use less than \"4 tiles\" of data (256 \\* 256 \\* 4) and `bestEffort` is turned on, to make the computation run fast. When these arguments are set this way, the `reduceRegion()` function will try to figure out how many pixels it would need to process at the given scale, and if that's greater than the `maxPixels` value, it computes a lower scale to keep the total number of pixels below `maxPixels`. That all means you need to specify a scale, but it doesn't matter what it is as it'll be mostly ignored.\n",
        "\n",
        "This code then generates the lookup tables for each band in the input image, calls the `interpolate()` function for each, and combines the results into a single image.\n",
        "\n",
        "Before the `histogram_match` function can be used, we need to identify the source and target images. The following function is for finding a target RGB-reference image within a given image collection that is nearest in observation date to the image we want color matched."
      ]
    },
    {
      "cell_type": "code",
      "metadata": {
        "id": "_EmxcWn_gOE_"
      },
      "source": [
        "def find_closest(target_image, image_col, days):\n",
        "    \"\"\"Filter images in a collection by date proximity and spatial intersection to a target image.\n",
        "\n",
        "    Args:\n",
        "        target_image: An ee.Image whose observation date is used to find near-date images in\n",
        "          the provided image_col image collection. It must have a 'system:time_start' property.\n",
        "        image_col: An ee.ImageCollection to filter by date proximity and spatial intersection\n",
        "          to the target_image. Each image in the collection must have a 'system:time_start'\n",
        "          property.\n",
        "        days: A number that defines the maximum number of days difference allowed between\n",
        "          the target_image and images in the image_col.\n",
        "\n",
        "    Returns:\n",
        "        An ee.ImageCollection that has been filtered to include those images that are within the\n",
        "          given date proximity to target_image and intersect it spatially.\n",
        "    \"\"\"\n",
        "\n",
        "    # Compute the timespan for N days (in milliseconds).\n",
        "    range = ee.Number(days).multiply(1000 * 60 * 60 * 24)\n",
        "\n",
        "    filter = ee.Filter.And(\n",
        "        ee.Filter.maxDifference(range, 'system:time_start', None, 'system:time_start'),\n",
        "        ee.Filter.intersects('.geo', None, '.geo'))\n",
        "\n",
        "    closest = (ee.Join.saveAll('matches', 'measure')\n",
        "        .apply(ee.ImageCollection([target_image]), image_col, filter))\n",
        "\n",
        "    return ee.ImageCollection(ee.List(closest.first().get('matches')))"
      ],
      "execution_count": null,
      "outputs": []
    },
    {
      "cell_type": "markdown",
      "metadata": {
        "id": "ILc3FMmNMNT7"
      },
      "source": [
        "The previous functions are generically useful for performing image histogram matching; they are not specific to any particular image or image collection. They are the building blocks for the procedure."
      ]
    },
    {
      "cell_type": "markdown",
      "metadata": {
        "id": "AuCb9UeWR08Y"
      },
      "source": [
        "## Application\n",
        "\n",
        "The following steps are specific to the SkySat-to-Landsat scenario introduced earlier.\n",
        "\n",
        "First define a region of interest and the source SkySat image to histogram-match to Landsat 8 images; we'll also clip the image by the region of interest."
      ]
    },
    {
      "cell_type": "code",
      "metadata": {
        "id": "OPBddAaYNMIz"
      },
      "source": [
        "geometry = ee.Geometry.BBox(-155.971, 19.782, -155.733, 20.09)\n",
        "\n",
        "skysat = (ee.Image('SKYSAT/GEN-A/PUBLIC/ORTHO/RGB/s01_20161020T214047Z')\n",
        "    .clip(geometry))"
      ],
      "execution_count": null,
      "outputs": []
    },
    {
      "cell_type": "markdown",
      "metadata": {
        "id": "u1TxTF4fNNhs"
      },
      "source": [
        "Next prepare a Landsat 8 collection by applying a cloud/shadow mask, scaling, and selecting/renaming RGB bands."
      ]
    },
    {
      "cell_type": "code",
      "metadata": {
        "id": "5sZYiLMAo6M1"
      },
      "source": [
        "def prep_landsat(image):\n",
        "    \"\"\"Scale, apply cloud/shadow mask, and select/rename Landsat 8 bands.\"\"\"\n",
        "    qa_mask = image.select('QA_PIXEL').bitwiseAnd(int('11111', 2)).eq(0)\n",
        "\n",
        "    def get_factor_img(factor_names):\n",
        "        factor_list = image.toDictionary().select(factor_names).values()\n",
        "        return ee.Image.constant(factor_list)\n",
        "\n",
        "    scale_img = get_factor_img(['REFLECTANCE_MULT_BAND_.'])\n",
        "    offset_img = get_factor_img(['REFLECTANCE_ADD_BAND_.'])\n",
        "    scaled = image.select('SR_B.').multiply(scale_img).add(offset_img)\n",
        "\n",
        "    return image.addBands(scaled, None, True).select(\n",
        "        ['SR_B4', 'SR_B3', 'SR_B2'], ['R', 'G', 'B']).updateMask(qa_mask)\n",
        "\n",
        "# Get the landsat collection, cloud masked and scaled to surface reflectance.\n",
        "landsat_col = ee.ImageCollection('LANDSAT/LC08/C02/T1_L2').filterBounds(\n",
        "    geometry).map(prep_landsat)"
      ],
      "execution_count": null,
      "outputs": []
    },
    {
      "cell_type": "markdown",
      "metadata": {
        "id": "oIRr-GIjQgHi"
      },
      "source": [
        "Now find the Landsat images within 32 days of the SkySat image, sort the images by cloud cover and then mosaic them. Use the result as the reference image to histogram-match the SkySat image to."
      ]
    },
    {
      "cell_type": "code",
      "metadata": {
        "id": "vxxWeyPVo16v"
      },
      "source": [
        "reference = find_closest(skysat, landsat_col, 32).sort('CLOUD_COVER').mosaic()\n",
        "result = histogram_match(skysat, reference, geometry)"
      ],
      "execution_count": null,
      "outputs": []
    },
    {
      "cell_type": "markdown",
      "metadata": {
        "id": "s2YImlVmcEA3"
      },
      "source": [
        "## Results\n",
        "\n",
        "Define a `geemap.Map` object, add layers, and display it. Until you zoom in really far, it's nearly impossible to tell where the Landsat image ends and the SkySat image begins."
      ]
    },
    {
      "cell_type": "code",
      "metadata": {
        "id": "QJDqpNtDpUKO"
      },
      "source": [
        "lon, lat, zoom = -155.79584, 19.99866, 13\n",
        "m = geemap.Map(center=[lat, lon], zoom=zoom)\n",
        "\n",
        "vis_params_refl = {'min': 0, 'max': 0.25}\n",
        "vis_params_dn = {'min': 0, 'max': 255}\n",
        "\n",
        "m.add_layer(reference, vis_params_refl, 'Landsat-8 reference')\n",
        "m.add_layer(skysat, vis_params_dn, 'SkySat source')\n",
        "m.add_layer(result, vis_params_refl, 'SkySat matched')\n",
        "m"
      ],
      "execution_count": null,
      "outputs": []
    },
    {
      "cell_type": "markdown",
      "metadata": {
        "id": "K4HElODzTcFS"
      },
      "source": [
        "## Caveats"
      ]
    },
    {
      "cell_type": "markdown",
      "metadata": {
        "id": "PvvVVrzUgOd2"
      },
      "source": [
        "If there's anything anomalous in your image that's not in the reference image (or vice versa), like clouds, the CDF can end up skewed, and the histogram matching results might not look that good. Additionally, a little mis-registration between the source and target images is usually ok, since it is using the statistics of the whole region and doesn't really rely on a pixel-to-pixel correspondence."
      ]
    }
  ]
}